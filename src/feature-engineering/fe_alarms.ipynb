{
 "cells": [
  {
   "cell_type": "code",
   "execution_count": 1,
   "metadata": {},
   "outputs": [
    {
     "name": "stdout",
     "output_type": "stream",
     "text": [
      "<class 'pandas.core.frame.DataFrame'>\n",
      "RangeIndex: 19933 entries, 0 to 19932\n",
      "Data columns (total 9 columns):\n",
      " #   Column                 Non-Null Count  Dtype  \n",
      "---  ------                 --------------  -----  \n",
      " 0   id                     19933 non-null  int64  \n",
      " 1   region_id              19933 non-null  int64  \n",
      " 2   region_title           19933 non-null  object \n",
      " 3   region_city            19933 non-null  object \n",
      " 4   all_region             19933 non-null  int64  \n",
      " 5   start                  19933 non-null  object \n",
      " 6   end                    19933 non-null  object \n",
      " 7   clean_end              19932 non-null  object \n",
      " 8   intersection_alarm_id  2098 non-null   float64\n",
      "dtypes: float64(1), int64(3), object(5)\n",
      "memory usage: 1.4+ MB\n"
     ]
    }
   ],
   "source": [
    "# Feature engineering:\n",
    "# - add a number of regions where the alarm is going on\n",
    "# - add number of alarms for this region during the last 24 hours\n",
    "\n",
    "import pandas as pd\n",
    "\n",
    "SRC_ALARMS_DATA_FOLDER = \"data/source\"\n",
    "SRC_ALARMS_DATA_FILE = \"alarms.csv\"\n",
    "\n",
    "df = pd.read_csv(f\"{SRC_ALARMS_DATA_FOLDER}/{SRC_ALARMS_DATA_FILE}\", delimiter=';')\n",
    "\n",
    "df.info()"
   ]
  },
  {
   "cell_type": "code",
   "execution_count": 2,
   "metadata": {},
   "outputs": [],
   "source": [
    "# define a lambda function to round up time (skip minutes and seconds part)\n",
    "def round_up_time(row, column):\n",
    "    # extract the date and hours parts\n",
    "    dt_object = pd.to_datetime(row[column])\n",
    "    time_str = dt_object.strftime(\"%Y-%m-%d %H:00:00\")\n",
    "\n",
    "    # return the transformed values as a dictionary\n",
    "    return {column + '_rounded': time_str}\n",
    "\n",
    "df['start_rounded'] = df.apply(lambda row: pd.Series(round_up_time(row, 'start')), axis=1)\n",
    "df['end_rounded'] = df.apply(lambda row: pd.Series(round_up_time(row, 'end')), axis=1)"
   ]
  },
  {
   "cell_type": "code",
   "execution_count": 3,
   "metadata": {},
   "outputs": [],
   "source": [
    "# add a new column to store the number of regions where the alarm is going on\n",
    "df['num_regions'] = 0\n",
    "\n",
    "# group the data by the start and end times of the alarms\n",
    "groups = df.groupby(['start_rounded', 'end_rounded'])\n",
    "\n",
    "# iterate over each group and count the number of unique region ids\n",
    "for name, group in groups:\n",
    "    num_regions = len(group['region_id'].unique())\n",
    "    \n",
    "    # update the corresponding rows in the dataframe with the number of regions\n",
    "    df.loc[(df['start_rounded'] == name[0]) & (df['end_rounded'] == name[1]), 'num_regions'] = num_regions"
   ]
  },
  {
   "cell_type": "code",
   "execution_count": 4,
   "metadata": {},
   "outputs": [
    {
     "name": "stdout",
     "output_type": "stream",
     "text": [
      "<class 'pandas.core.frame.DataFrame'>\n",
      "RangeIndex: 19933 entries, 0 to 19932\n",
      "Data columns (total 12 columns):\n",
      " #   Column                 Non-Null Count  Dtype  \n",
      "---  ------                 --------------  -----  \n",
      " 0   id                     19933 non-null  int64  \n",
      " 1   region_id              19933 non-null  int64  \n",
      " 2   region_title           19933 non-null  object \n",
      " 3   region_city            19933 non-null  object \n",
      " 4   all_region             19933 non-null  int64  \n",
      " 5   start                  19933 non-null  object \n",
      " 6   end                    19933 non-null  object \n",
      " 7   clean_end              19932 non-null  object \n",
      " 8   intersection_alarm_id  2098 non-null   float64\n",
      " 9   start_rounded          19933 non-null  object \n",
      " 10  end_rounded            19933 non-null  object \n",
      " 11  num_regions            19933 non-null  int64  \n",
      "dtypes: float64(1), int64(4), object(7)\n",
      "memory usage: 1.8+ MB\n"
     ]
    }
   ],
   "source": [
    "df.info()"
   ]
  },
  {
   "cell_type": "code",
   "execution_count": 5,
   "metadata": {},
   "outputs": [
    {
     "name": "stdout",
     "output_type": "stream",
     "text": [
      "Number of rows in dataframe with num_regions > 1: 15974\n"
     ]
    }
   ],
   "source": [
    "# select rows where num_regions is greater than 1\n",
    "filtered_df = df[df['num_regions'] > 1]\n",
    "\n",
    "num_rows = len(filtered_df)\n",
    "print(\"Number of rows in dataframe with num_regions > 1:\", num_rows)"
   ]
  },
  {
   "cell_type": "code",
   "execution_count": 6,
   "metadata": {},
   "outputs": [],
   "source": [
    "# remove temp columns\n",
    "\n",
    "df = df.drop([\"start_rounded\", \"end_rounded\"], axis=1)"
   ]
  },
  {
   "cell_type": "code",
   "execution_count": 7,
   "metadata": {},
   "outputs": [],
   "source": [
    "# add feature with number of alarms for this region during the last 24 hours\n",
    "\n",
    "# convert the 'start' and 'end' columns to datetime objects\n",
    "df['start'] = pd.to_datetime(df['start'])\n",
    "df['end'] = pd.to_datetime(df['end'])\n",
    "\n",
    "# group the data by region\n",
    "grouped = df.groupby('region_id')\n",
    "\n",
    "# compute a rolling count of the number of alarms in a 24-hour window\n",
    "last_24_hours = grouped.apply(lambda x: x.set_index('start').rolling('24H')['region_id'].count()).reset_index(name='num_alarms_24h')\n",
    "\n",
    "# merge the result back into the original dataframe\n",
    "df = pd.merge(df, last_24_hours, on=['region_id', 'start'], how='left')\n",
    "\n",
    "# drop duplicates and unnecessary columns\n",
    "df.drop_duplicates(subset=['region_id', 'start'], keep='last', inplace=True)\n",
    "df.drop(columns=['end'], inplace=True)"
   ]
  },
  {
   "cell_type": "code",
   "execution_count": 8,
   "metadata": {},
   "outputs": [
    {
     "name": "stdout",
     "output_type": "stream",
     "text": [
      "   id  region_id region_title region_city  all_region               start  \\\n",
      "4   7          3   Вінниччина     Вінниця           0 2022-02-26 08:39:39   \n",
      "5   9          3   Вінниччина     Вінниця           0 2022-02-26 10:58:23   \n",
      "6  10         12    Львівщина       Львів           0 2022-02-26 13:44:44   \n",
      "\n",
      "             clean_end  intersection_alarm_id  num_regions  num_alarms_24h  \n",
      "4  2022-02-26 10:42:41                    NaN            1             2.0  \n",
      "5  2022-02-26 11:59:40                    NaN            1             3.0  \n",
      "6  2022-02-26 14:27:25                    NaN            1             2.0  \n"
     ]
    }
   ],
   "source": [
    "filtered_df = df[df['num_alarms_24h'] > 1]\n",
    "top_3_rows = filtered_df.head(3)\n",
    "print(top_3_rows)"
   ]
  },
  {
   "cell_type": "code",
   "execution_count": 9,
   "metadata": {},
   "outputs": [],
   "source": [
    "# save the updated dataframe to a CSV file\n",
    "OUTPUT_ALARMS_DATA_FOLDER = \"data/output\"\n",
    "OUTPUT_ALARMS_DATA_FILE = \"alarms_enriched.csv\"\n",
    "\n",
    "df.to_csv(f\"{OUTPUT_ALARMS_DATA_FOLDER}/{OUTPUT_ALARMS_DATA_FILE}\", index=False, sep=';')"
   ]
  }
 ],
 "metadata": {
  "kernelspec": {
   "display_name": "Python 3",
   "language": "python",
   "name": "python3"
  },
  "language_info": {
   "codemirror_mode": {
    "name": "ipython",
    "version": 3
   },
   "file_extension": ".py",
   "mimetype": "text/x-python",
   "name": "python",
   "nbconvert_exporter": "python",
   "pygments_lexer": "ipython3",
   "version": "3.10.10"
  },
  "orig_nbformat": 4
 },
 "nbformat": 4,
 "nbformat_minor": 2
}
