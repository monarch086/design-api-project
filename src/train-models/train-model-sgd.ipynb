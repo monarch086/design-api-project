{
 "cells": [
  {
   "attachments": {},
   "cell_type": "markdown",
   "metadata": {},
   "source": [
    "# Train model Stochastic Gradient Descent"
   ]
  },
  {
   "attachments": {},
   "cell_type": "markdown",
   "metadata": {},
   "source": [
    "## Prepare data"
   ]
  },
  {
   "cell_type": "code",
   "execution_count": 1,
   "metadata": {},
   "outputs": [],
   "source": [
    "import pandas as pd\n",
    "import pickle\n",
    "from sklearn.model_selection import TimeSeriesSplit\n",
    "from sklearn.linear_model import SGDClassifier\n",
    "from sklearn.metrics import accuracy_score\n",
    "\n",
    "INPUT_DATA_FOLDER = \"data/source\"\n",
    "ALL_MERGED_DATA = \"all_merged_data.csv\"\n",
    "\n",
    "MODEL_FOLDER = \"model\"\n",
    "MODEL_FILE_NAME = \"stochastic_gradient_descent_model.pkl\"\n",
    "\n",
    "FEATURES_TO_INCLUDE = [\n",
    "    'day_datetime',\n",
    "    'day_temp',\n",
    "    'day_humidity',\n",
    "    'hour_windspeed',\n",
    "    'hour_conditions',\n",
    "    'city',\n",
    "    'event_start_hour',\n",
    "    #  'event_num_regions',\n",
    "    #  'event_num_alarms_24h',\n",
    "    'vectors'\n",
    "]\n",
    "TARGET_FEATURE = 'is_alarm'\n",
    "\n",
    "# Load dataset from a CSV file\n",
    "df = pd.read_csv(f\"{INPUT_DATA_FOLDER}/{ALL_MERGED_DATA}\", sep=\";\")\n",
    "\n",
    "# Separate the target variable from the input features\n",
    "X = df[FEATURES_TO_INCLUDE]\n",
    "y = df[TARGET_FEATURE]\n",
    "\n",
    "# Convert all columns to float\n",
    "X = X.apply(pd.to_numeric, errors='coerce')\n",
    "y = y.apply(pd.to_numeric, errors='coerce')\n",
    "\n",
    "# Replace NaN values with default\n",
    "X.fillna(0, inplace=True)\n",
    "y.fillna(0, inplace=True)\n",
    "\n",
    "# Split the dataset into training and testing sets\n",
    "tss = TimeSeriesSplit(2)\n",
    "train_index, test_index = list(tss.split(X))[-1]\n",
    "X_train, X_test = X.iloc[train_index, :], X.iloc[test_index,:]\n",
    "y_train, y_test = y.iloc[train_index], y.iloc[test_index]\n"
   ]
  },
  {
   "attachments": {},
   "cell_type": "markdown",
   "metadata": {},
   "source": [
    "## Train model"
   ]
  },
  {
   "cell_type": "code",
   "execution_count": 4,
   "metadata": {},
   "outputs": [
    {
     "name": "stdout",
     "output_type": "stream",
     "text": [
      "Accuracy: 0.800920793298842\n"
     ]
    }
   ],
   "source": [
    "# Train an SGD model\n",
    "model = SGDClassifier(loss='squared_error', penalty='l2', alpha=0.0001, max_iter=1000)\n",
    "model.fit(X_train, y_train)\n",
    "\n",
    "# Make predictions on the testing set\n",
    "y_pred = model.predict(X_test)\n",
    "\n",
    "# Evaluate the model's accuracy\n",
    "accuracy = accuracy_score(y_test, y_pred)\n",
    "print('Accuracy:', accuracy)"
   ]
  },
  {
   "attachments": {},
   "cell_type": "markdown",
   "metadata": {},
   "source": [
    "## Save model"
   ]
  },
  {
   "cell_type": "code",
   "execution_count": 5,
   "metadata": {},
   "outputs": [],
   "source": [
    "with open(f\"{MODEL_FOLDER}/{MODEL_FILE_NAME}\", 'wb') as f:\n",
    "    pickle.dump(model, f)"
   ]
  },
  {
   "attachments": {},
   "cell_type": "markdown",
   "metadata": {},
   "source": [
    "## Calculate confusion matrix"
   ]
  },
  {
   "cell_type": "code",
   "execution_count": 6,
   "metadata": {},
   "outputs": [
    {
     "name": "stdout",
     "output_type": "stream",
     "text": [
      "Confusion Matrix:\n",
      "[[52015     0]\n",
      " [12929     0]]\n"
     ]
    }
   ],
   "source": [
    "from sklearn.metrics import confusion_matrix\n",
    "\n",
    "y_pred = model.predict(X_test)\n",
    "cm = confusion_matrix(y_test, y_pred)\n",
    "print('Confusion Matrix:')\n",
    "print(cm)"
   ]
  }
 ],
 "metadata": {
  "kernelspec": {
   "display_name": "Python 3",
   "language": "python",
   "name": "python3"
  },
  "language_info": {
   "codemirror_mode": {
    "name": "ipython",
    "version": 3
   },
   "file_extension": ".py",
   "mimetype": "text/x-python",
   "name": "python",
   "nbconvert_exporter": "python",
   "pygments_lexer": "ipython3",
   "version": "3.7.2"
  },
  "orig_nbformat": 4,
  "vscode": {
   "interpreter": {
    "hash": "f4861b11d1e667279ae3d2e72b6459766b3db15384e4379b70e2ba2af9454d6c"
   }
  }
 },
 "nbformat": 4,
 "nbformat_minor": 2
}
