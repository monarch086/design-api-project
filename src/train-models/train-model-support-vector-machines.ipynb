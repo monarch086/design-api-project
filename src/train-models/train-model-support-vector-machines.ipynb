{
 "cells": [
  {
   "attachments": {},
   "cell_type": "markdown",
   "metadata": {},
   "source": [
    "# Train model Support Vector Machines"
   ]
  },
  {
   "attachments": {},
   "cell_type": "markdown",
   "metadata": {},
   "source": [
    "## Prepare data"
   ]
  },
  {
   "cell_type": "code",
   "execution_count": 1,
   "metadata": {},
   "outputs": [],
   "source": [
    "import pandas as pd\n",
    "import pickle\n",
    "from sklearn.svm import SVC\n",
    "# from sklearn.svm import SVR\n",
    "from sklearn.metrics import accuracy_score\n",
    "from sklearn.model_selection import train_test_split\n",
    "\n",
    "INPUT_DATA_FOLDER = \"data/source\"\n",
    "ALL_MERGED_DATA = \"all_merged_data.csv\"\n",
    "\n",
    "MODEL_FOLDER = \"model\"\n",
    "MODEL_FILE_NAME = \"support_vector_machines_model.pkl\"\n",
    "\n",
    "FEATURES_TO_INCLUDE = [\n",
    "    'day_datetime',\n",
    "    'day_temp',\n",
    "    'day_humidity',\n",
    "    'hour_windspeed',\n",
    "    'hour_conditions',\n",
    "    'city',\n",
    "    'event_start_hour',\n",
    "   #  'event_num_regions',\n",
    "   # 'event_num_alarms_24h',\n",
    "    # 'vectors'\n",
    "]\n",
    "TARGET_FEATURE = 'is_alarm'\n",
    "\n",
    "# Load dataset from a CSV file\n",
    "df = pd.read_csv(f\"{INPUT_DATA_FOLDER}/{ALL_MERGED_DATA}\", sep=\";\").head(10000)\n",
    "\n",
    "# Separate the target variable from the input features\n",
    "X = df[FEATURES_TO_INCLUDE]\n",
    "# X = df.drop('event_region_city', axis=1)\n",
    "y = df[TARGET_FEATURE]\n",
    "\n",
    "# Convert all columns to float\n",
    "X = X.apply(pd.to_numeric, errors='coerce')\n",
    "y = y.apply(pd.to_numeric, errors='coerce')\n",
    "\n",
    "# Replace NaN values with default\n",
    "X.fillna(0, inplace=True)\n",
    "y.fillna(0, inplace=True)\n",
    "\n",
    "# Split the dataset into training and testing sets\n",
    "X_train, X_test, y_train, y_test = train_test_split(X, y, test_size=0.2, random_state=42)\n"
   ]
  },
  {
   "attachments": {},
   "cell_type": "markdown",
   "metadata": {},
   "source": [
    "## Train model"
   ]
  },
  {
   "cell_type": "code",
   "execution_count": 17,
   "metadata": {},
   "outputs": [
    {
     "name": "stdout",
     "output_type": "stream",
     "text": [
      "Accuracy: 0.834\n"
     ]
    }
   ],
   "source": [
    "model = SVC(kernel='linear', C=1)\n",
    "# model = SVR()\n",
    "model.fit(X_train, y_train)\n",
    "\n",
    "# Make predictions on the testing set\n",
    "y_pred = model.predict(X_test)\n",
    "\n",
    "# Evaluate the model's accuracy\n",
    "accuracy = accuracy_score(y_test, y_pred)\n",
    "print('Accuracy:', accuracy)"
   ]
  },
  {
   "attachments": {},
   "cell_type": "markdown",
   "metadata": {},
   "source": [
    "## Save model"
   ]
  },
  {
   "cell_type": "code",
   "execution_count": 13,
   "metadata": {},
   "outputs": [],
   "source": [
    "with open(f\"{MODEL_FOLDER}/{MODEL_FILE_NAME}\", 'wb') as f:\n",
    "    pickle.dump(model, f)"
   ]
  },
  {
   "attachments": {},
   "cell_type": "markdown",
   "metadata": {},
   "source": [
    "## Calculate confusion matrix"
   ]
  },
  {
   "cell_type": "code",
   "execution_count": 4,
   "metadata": {},
   "outputs": [
    {
     "name": "stdout",
     "output_type": "stream",
     "text": [
      "Confusion Matrix:\n",
      "[[1668    0]\n",
      " [ 332    0]]\n"
     ]
    }
   ],
   "source": [
    "from sklearn.metrics import confusion_matrix\n",
    "\n",
    "# Load the saved model from the file\n",
    "with open(f\"{MODEL_FOLDER}/{MODEL_FILE_NAME}\", 'rb') as f:\n",
    "    model = pickle.load(f)\n",
    "\n",
    "y_pred = model.predict(X_test)\n",
    "cm = confusion_matrix(y_test, y_pred)\n",
    "print('Confusion Matrix:')\n",
    "print(cm)"
   ]
  }
 ],
 "metadata": {
  "kernelspec": {
   "display_name": "Python 3",
   "language": "python",
   "name": "python3"
  },
  "language_info": {
   "codemirror_mode": {
    "name": "ipython",
    "version": 3
   },
   "file_extension": ".py",
   "mimetype": "text/x-python",
   "name": "python",
   "nbconvert_exporter": "python",
   "pygments_lexer": "ipython3",
   "version": "3.10.10"
  },
  "orig_nbformat": 4
 },
 "nbformat": 4,
 "nbformat_minor": 2
}
