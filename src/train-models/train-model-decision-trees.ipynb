{
 "cells": [
  {
   "attachments": {},
   "cell_type": "markdown",
   "metadata": {},
   "source": [
    "# Train model Decision Trees"
   ]
  },
  {
   "attachments": {},
   "cell_type": "markdown",
   "metadata": {},
   "source": [
    "## Prepare data"
   ]
  },
  {
   "cell_type": "code",
   "execution_count": 2,
   "metadata": {},
   "outputs": [
    {
     "data": {
      "text/html": [
       "<div>\n",
       "<style scoped>\n",
       "    .dataframe tbody tr th:only-of-type {\n",
       "        vertical-align: middle;\n",
       "    }\n",
       "\n",
       "    .dataframe tbody tr th {\n",
       "        vertical-align: top;\n",
       "    }\n",
       "\n",
       "    .dataframe thead th {\n",
       "        text-align: right;\n",
       "    }\n",
       "</style>\n",
       "<table border=\"1\" class=\"dataframe\">\n",
       "  <thead>\n",
       "    <tr style=\"text-align: right;\">\n",
       "      <th></th>\n",
       "      <th>city_resolvedAddress</th>\n",
       "      <th>day_temp</th>\n",
       "      <th>day_humidity</th>\n",
       "      <th>hour_windspeed</th>\n",
       "      <th>hour_conditions</th>\n",
       "      <th>event_start_hour</th>\n",
       "    </tr>\n",
       "  </thead>\n",
       "  <tbody>\n",
       "    <tr>\n",
       "      <th>12714</th>\n",
       "      <td>0.0</td>\n",
       "      <td>23.1</td>\n",
       "      <td>64.5</td>\n",
       "      <td>11.2</td>\n",
       "      <td>0.0</td>\n",
       "      <td>0.0</td>\n",
       "    </tr>\n",
       "    <tr>\n",
       "      <th>130784</th>\n",
       "      <td>0.0</td>\n",
       "      <td>5.6</td>\n",
       "      <td>56.6</td>\n",
       "      <td>21.6</td>\n",
       "      <td>0.0</td>\n",
       "      <td>0.0</td>\n",
       "    </tr>\n",
       "    <tr>\n",
       "      <th>125855</th>\n",
       "      <td>0.0</td>\n",
       "      <td>10.1</td>\n",
       "      <td>93.4</td>\n",
       "      <td>15.5</td>\n",
       "      <td>0.0</td>\n",
       "      <td>0.0</td>\n",
       "    </tr>\n",
       "  </tbody>\n",
       "</table>\n",
       "</div>"
      ],
      "text/plain": [
       "        city_resolvedAddress  day_temp  day_humidity  hour_windspeed  \\\n",
       "12714                    0.0      23.1          64.5            11.2   \n",
       "130784                   0.0       5.6          56.6            21.6   \n",
       "125855                   0.0      10.1          93.4            15.5   \n",
       "\n",
       "        hour_conditions  event_start_hour  \n",
       "12714               0.0               0.0  \n",
       "130784              0.0               0.0  \n",
       "125855              0.0               0.0  "
      ]
     },
     "execution_count": 2,
     "metadata": {},
     "output_type": "execute_result"
    }
   ],
   "source": [
    "import pandas as pd\n",
    "import pickle\n",
    "from sklearn.model_selection import train_test_split\n",
    "from sklearn.tree import DecisionTreeClassifier\n",
    "from sklearn.metrics import accuracy_score\n",
    "\n",
    "INPUT_DATA_FOLDER = \"data/source\"\n",
    "ALL_MERGED_DATA = \"all_merged_data.csv\"\n",
    "\n",
    "MODEL_FOLDER = \"model\"\n",
    "MODEL_FILE_NAME = \"decision_trees_model.pkl\"\n",
    "\n",
    "FEATURES_TO_INCLUDE = [\n",
    "    'city_resolvedAddress',\n",
    "    'day_temp',\n",
    "    'day_humidity',\n",
    "    'hour_windspeed',\n",
    "    'hour_conditions',\n",
    "    'event_start_hour',\n",
    "    # 'event_num_regions',\n",
    "    # 'event_num_alarms_24h',\n",
    "    # 'vectors'\n",
    "]\n",
    "TARGET_FEATURE = 'is_alarm'\n",
    "\n",
    "# Load dataset from a CSV file\n",
    "df = pd.read_csv(f\"{INPUT_DATA_FOLDER}/{ALL_MERGED_DATA}\", sep=\";\")\n",
    "\n",
    "# Separate the target variable from the input features\n",
    "X = df[FEATURES_TO_INCLUDE]\n",
    "y = df[TARGET_FEATURE]\n",
    "\n",
    "# Convert all columns to float\n",
    "X = X.apply(pd.to_numeric, errors='coerce')\n",
    "y = y.apply(pd.to_numeric, errors='coerce')\n",
    "\n",
    "# Replace NaN values with default\n",
    "X.fillna(0, inplace=True)\n",
    "y.fillna(0, inplace=True)\n",
    "\n",
    "# Split the dataset into training and testing sets\n",
    "X_train, X_test, y_train, y_test = train_test_split(X, y, test_size=0.2, random_state=42)\n",
    "\n",
    "# X_train[X_train['vectors'] > 0.0].head(3)\n",
    "X_train.head(3)\n"
   ]
  },
  {
   "attachments": {},
   "cell_type": "markdown",
   "metadata": {},
   "source": [
    "## Train model"
   ]
  },
  {
   "cell_type": "code",
   "execution_count": 3,
   "metadata": {},
   "outputs": [
    {
     "name": "stdout",
     "output_type": "stream",
     "text": [
      "Accuracy: 0.7905920394179691\n"
     ]
    }
   ],
   "source": [
    "# Train a Decision Tree model\n",
    "model = DecisionTreeClassifier(max_depth=None, random_state=42)\n",
    "model.fit(X_train, y_train)\n",
    "\n",
    "# Make predictions on the testing set\n",
    "y_pred = model.predict(X_test)\n",
    "\n",
    "# Evaluate the model's accuracy\n",
    "accuracy = accuracy_score(y_test, y_pred)\n",
    "print('Accuracy:', accuracy)\n"
   ]
  },
  {
   "attachments": {},
   "cell_type": "markdown",
   "metadata": {},
   "source": [
    "## Save model"
   ]
  },
  {
   "cell_type": "code",
   "execution_count": 4,
   "metadata": {},
   "outputs": [],
   "source": [
    "with open(f\"{MODEL_FOLDER}/{MODEL_FILE_NAME}\", 'wb') as f:\n",
    "    pickle.dump(model, f)"
   ]
  },
  {
   "attachments": {},
   "cell_type": "markdown",
   "metadata": {},
   "source": [
    "## Calculate confusion matrix"
   ]
  },
  {
   "cell_type": "code",
   "execution_count": 5,
   "metadata": {},
   "outputs": [
    {
     "name": "stdout",
     "output_type": "stream",
     "text": [
      "Confusion Matrix:\n",
      "[[25358  3778]\n",
      " [ 4382  5449]]\n"
     ]
    }
   ],
   "source": [
    "from sklearn.metrics import confusion_matrix\n",
    "\n",
    "y_pred = model.predict(X_test)\n",
    "cm = confusion_matrix(y_test, y_pred)\n",
    "print('Confusion Matrix:')\n",
    "print(cm)"
   ]
  }
 ],
 "metadata": {
  "kernelspec": {
   "display_name": "Python 3",
   "language": "python",
   "name": "python3"
  },
  "language_info": {
   "codemirror_mode": {
    "name": "ipython",
    "version": 3
   },
   "file_extension": ".py",
   "mimetype": "text/x-python",
   "name": "python",
   "nbconvert_exporter": "python",
   "pygments_lexer": "ipython3",
   "version": "3.10.10"
  },
  "orig_nbformat": 4
 },
 "nbformat": 4,
 "nbformat_minor": 2
}
