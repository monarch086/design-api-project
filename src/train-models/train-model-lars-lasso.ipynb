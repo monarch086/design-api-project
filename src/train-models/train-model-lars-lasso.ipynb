{
 "cells": [
  {
   "attachments": {},
   "cell_type": "markdown",
   "metadata": {},
   "source": [
    "# Train model LARS Lasso"
   ]
  },
  {
   "attachments": {},
   "cell_type": "markdown",
   "metadata": {},
   "source": [
    "## Prepare data"
   ]
  },
  {
   "cell_type": "code",
   "execution_count": 1,
   "metadata": {},
   "outputs": [
    {
     "data": {
      "text/html": [
       "<div>\n",
       "<style scoped>\n",
       "    .dataframe tbody tr th:only-of-type {\n",
       "        vertical-align: middle;\n",
       "    }\n",
       "\n",
       "    .dataframe tbody tr th {\n",
       "        vertical-align: top;\n",
       "    }\n",
       "\n",
       "    .dataframe thead th {\n",
       "        text-align: right;\n",
       "    }\n",
       "</style>\n",
       "<table border=\"1\" class=\"dataframe\">\n",
       "  <thead>\n",
       "    <tr style=\"text-align: right;\">\n",
       "      <th></th>\n",
       "      <th>city_resolvedAddress</th>\n",
       "      <th>day_temp</th>\n",
       "      <th>day_humidity</th>\n",
       "      <th>hour_windspeed</th>\n",
       "      <th>hour_conditions</th>\n",
       "      <th>event_start_hour</th>\n",
       "      <th>event_num_regions</th>\n",
       "      <th>event_num_alarms_24h</th>\n",
       "      <th>vectors</th>\n",
       "    </tr>\n",
       "  </thead>\n",
       "  <tbody>\n",
       "    <tr>\n",
       "      <th>0</th>\n",
       "      <td>0.0</td>\n",
       "      <td>2.6</td>\n",
       "      <td>83.7</td>\n",
       "      <td>15.5</td>\n",
       "      <td>0.0</td>\n",
       "      <td>0.0</td>\n",
       "      <td>0.0</td>\n",
       "      <td>0.0</td>\n",
       "      <td>0.0</td>\n",
       "    </tr>\n",
       "    <tr>\n",
       "      <th>1</th>\n",
       "      <td>0.0</td>\n",
       "      <td>2.6</td>\n",
       "      <td>83.7</td>\n",
       "      <td>14.8</td>\n",
       "      <td>0.0</td>\n",
       "      <td>0.0</td>\n",
       "      <td>0.0</td>\n",
       "      <td>0.0</td>\n",
       "      <td>0.0</td>\n",
       "    </tr>\n",
       "    <tr>\n",
       "      <th>2</th>\n",
       "      <td>0.0</td>\n",
       "      <td>2.6</td>\n",
       "      <td>83.7</td>\n",
       "      <td>14.4</td>\n",
       "      <td>0.0</td>\n",
       "      <td>0.0</td>\n",
       "      <td>0.0</td>\n",
       "      <td>0.0</td>\n",
       "      <td>0.0</td>\n",
       "    </tr>\n",
       "  </tbody>\n",
       "</table>\n",
       "</div>"
      ],
      "text/plain": [
       "   city_resolvedAddress  day_temp  day_humidity  hour_windspeed  \\\n",
       "0                   0.0       2.6          83.7            15.5   \n",
       "1                   0.0       2.6          83.7            14.8   \n",
       "2                   0.0       2.6          83.7            14.4   \n",
       "\n",
       "   hour_conditions  event_start_hour  event_num_regions  event_num_alarms_24h  \\\n",
       "0              0.0               0.0                0.0                   0.0   \n",
       "1              0.0               0.0                0.0                   0.0   \n",
       "2              0.0               0.0                0.0                   0.0   \n",
       "\n",
       "   vectors  \n",
       "0      0.0  \n",
       "1      0.0  \n",
       "2      0.0  "
      ]
     },
     "execution_count": 1,
     "metadata": {},
     "output_type": "execute_result"
    }
   ],
   "source": [
    "import pandas as pd\n",
    "import pickle\n",
    "from sklearn.model_selection import TimeSeriesSplit\n",
    "\n",
    "from sklearn.linear_model import LassoLars\n",
    "from sklearn.metrics import r2_score\n",
    "\n",
    "INPUT_DATA_FOLDER = \"data/source\"\n",
    "ALL_MERGED_DATA = \"all_merged_data.csv\"\n",
    "\n",
    "MODEL_FOLDER = \"model\"\n",
    "MODEL_FILE_NAME = \"lars_lasso_model.pkl\"\n",
    "\n",
    "FEATURES_TO_INCLUDE = [\n",
    "    'city_resolvedAddress',\n",
    "    'day_temp',\n",
    "    'day_humidity',\n",
    "    'hour_windspeed',\n",
    "    'hour_conditions',\n",
    "    'event_start_hour',\n",
    "    'event_num_regions',\n",
    "    'event_num_alarms_24h',\n",
    "    'vectors'\n",
    "]\n",
    "TARGET_FEATURE = 'is_alarm'\n",
    "\n",
    "# Load dataset from a CSV file\n",
    "df = pd.read_csv(f\"{INPUT_DATA_FOLDER}/{ALL_MERGED_DATA}\", sep=\";\")\n",
    "\n",
    "# Separate the target variable from the input features\n",
    "X = df[FEATURES_TO_INCLUDE]\n",
    "y = df[TARGET_FEATURE]\n",
    "\n",
    "# Convert all columns to float\n",
    "X = X.apply(pd.to_numeric, errors='coerce')\n",
    "y = y.apply(pd.to_numeric, errors='coerce')\n",
    "\n",
    "# Replace NaN values with default\n",
    "X.fillna(0, inplace=True)\n",
    "y.fillna(0, inplace=True)\n",
    "\n",
    "# Split the dataset into training and testing sets\n",
    "tss = TimeSeriesSplit(2)\n",
    "train_index, test_index = list(tss.split(X))[-1]\n",
    "X_train, X_test = X.iloc[train_index, :], X.iloc[test_index,:]\n",
    "y_train, y_test = y.iloc[train_index], y.iloc[test_index]\n",
    "\n",
    "# X_train[X_train['vectors'] > 0.0].head(3)\n",
    "X_train.head(3)\n"
   ]
  },
  {
   "attachments": {},
   "cell_type": "markdown",
   "metadata": {},
   "source": [
    "## Train model"
   ]
  },
  {
   "cell_type": "code",
   "execution_count": 2,
   "metadata": {},
   "outputs": [
    {
     "name": "stdout",
     "output_type": "stream",
     "text": [
      "R-squared score: -0.03875234202857736\n"
     ]
    }
   ],
   "source": [
    "# Train a LARS Lasso model\n",
    "model = LassoLars(alpha=0.1, max_iter=100, normalize=True)\n",
    "model.fit(X_train, y_train)\n",
    "\n",
    "# Make predictions on the testing set\n",
    "y_pred = model.predict(X_test)\n",
    "\n",
    "# Evaluate the model's performance using R-squared score\n",
    "r2 = r2_score(y_test, y_pred)\n",
    "print('R-squared score:', r2)\n"
   ]
  },
  {
   "attachments": {},
   "cell_type": "markdown",
   "metadata": {},
   "source": [
    "## Save model"
   ]
  },
  {
   "cell_type": "code",
   "execution_count": 3,
   "metadata": {},
   "outputs": [],
   "source": [
    "with open(f\"{MODEL_FOLDER}/{MODEL_FILE_NAME}\", 'wb') as f:\n",
    "    pickle.dump(model, f)"
   ]
  },
  {
   "attachments": {},
   "cell_type": "markdown",
   "metadata": {},
   "source": [
    "## Calculate confusion matrix"
   ]
  },
  {
   "cell_type": "code",
   "execution_count": null,
   "metadata": {},
   "outputs": [],
   "source": [
    "from sklearn.metrics import confusion_matrix\n",
    "\n",
    "y_pred = model.predict(X_test)\n",
    "cm = confusion_matrix(y_test, y_pred)\n",
    "print('Confusion Matrix:')\n",
    "print(cm)"
   ]
  }
 ],
 "metadata": {
  "kernelspec": {
   "display_name": "Python 3",
   "language": "python",
   "name": "python3"
  },
  "language_info": {
   "codemirror_mode": {
    "name": "ipython",
    "version": 3
   },
   "file_extension": ".py",
   "mimetype": "text/x-python",
   "name": "python",
   "nbconvert_exporter": "python",
   "pygments_lexer": "ipython3",
   "version": "3.7.2"
  },
  "orig_nbformat": 4,
  "vscode": {
   "interpreter": {
    "hash": "f4861b11d1e667279ae3d2e72b6459766b3db15384e4379b70e2ba2af9454d6c"
   }
  }
 },
 "nbformat": 4,
 "nbformat_minor": 2
}
