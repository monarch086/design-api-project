{
 "cells": [
  {
   "attachments": {},
   "cell_type": "markdown",
   "metadata": {},
   "source": [
    "# Train model LogisticRegression"
   ]
  },
  {
   "attachments": {},
   "cell_type": "markdown",
   "metadata": {},
   "source": [
    "## Prepare data"
   ]
  },
  {
   "cell_type": "code",
   "execution_count": 5,
   "metadata": {},
   "outputs": [
    {
     "data": {
      "text/html": [
       "<div>\n",
       "<style scoped>\n",
       "    .dataframe tbody tr th:only-of-type {\n",
       "        vertical-align: middle;\n",
       "    }\n",
       "\n",
       "    .dataframe tbody tr th {\n",
       "        vertical-align: top;\n",
       "    }\n",
       "\n",
       "    .dataframe thead th {\n",
       "        text-align: right;\n",
       "    }\n",
       "</style>\n",
       "<table border=\"1\" class=\"dataframe\">\n",
       "  <thead>\n",
       "    <tr style=\"text-align: right;\">\n",
       "      <th></th>\n",
       "      <th>city_resolvedAddress</th>\n",
       "      <th>day_temp</th>\n",
       "      <th>day_humidity</th>\n",
       "      <th>hour_windspeed</th>\n",
       "      <th>hour_conditions</th>\n",
       "      <th>city</th>\n",
       "      <th>num_regions</th>\n",
       "      <th>hours_last_day</th>\n",
       "    </tr>\n",
       "    <tr>\n",
       "      <th>hour_datetimeEpoch</th>\n",
       "      <th></th>\n",
       "      <th></th>\n",
       "      <th></th>\n",
       "      <th></th>\n",
       "      <th></th>\n",
       "      <th></th>\n",
       "      <th></th>\n",
       "      <th></th>\n",
       "    </tr>\n",
       "  </thead>\n",
       "  <tbody>\n",
       "    <tr>\n",
       "      <th>1645653600</th>\n",
       "      <td>0.0</td>\n",
       "      <td>2.6</td>\n",
       "      <td>83.7</td>\n",
       "      <td>15.5</td>\n",
       "      <td>0.0</td>\n",
       "      <td>0.0</td>\n",
       "      <td>0.0</td>\n",
       "      <td>0.0</td>\n",
       "    </tr>\n",
       "    <tr>\n",
       "      <th>1645653600</th>\n",
       "      <td>0.0</td>\n",
       "      <td>3.3</td>\n",
       "      <td>80.8</td>\n",
       "      <td>10.8</td>\n",
       "      <td>0.0</td>\n",
       "      <td>0.0</td>\n",
       "      <td>0.0</td>\n",
       "      <td>0.0</td>\n",
       "    </tr>\n",
       "    <tr>\n",
       "      <th>1645653600</th>\n",
       "      <td>0.0</td>\n",
       "      <td>4.8</td>\n",
       "      <td>68.3</td>\n",
       "      <td>3.2</td>\n",
       "      <td>0.0</td>\n",
       "      <td>0.0</td>\n",
       "      <td>0.0</td>\n",
       "      <td>0.0</td>\n",
       "    </tr>\n",
       "  </tbody>\n",
       "</table>\n",
       "</div>"
      ],
      "text/plain": [
       "                    city_resolvedAddress  day_temp  day_humidity  \\\n",
       "hour_datetimeEpoch                                                 \n",
       "1645653600                           0.0       2.6          83.7   \n",
       "1645653600                           0.0       3.3          80.8   \n",
       "1645653600                           0.0       4.8          68.3   \n",
       "\n",
       "                    hour_windspeed  hour_conditions  city  num_regions  \\\n",
       "hour_datetimeEpoch                                                       \n",
       "1645653600                    15.5              0.0   0.0          0.0   \n",
       "1645653600                    10.8              0.0   0.0          0.0   \n",
       "1645653600                     3.2              0.0   0.0          0.0   \n",
       "\n",
       "                    hours_last_day  \n",
       "hour_datetimeEpoch                  \n",
       "1645653600                     0.0  \n",
       "1645653600                     0.0  \n",
       "1645653600                     0.0  "
      ]
     },
     "execution_count": 5,
     "metadata": {},
     "output_type": "execute_result"
    }
   ],
   "source": [
    "import pandas as pd\n",
    "import pickle\n",
    "from sklearn.linear_model import LogisticRegression\n",
    "from sklearn.model_selection import TimeSeriesSplit\n",
    "INPUT_DATA_FOLDER = \"data/source\"\n",
    "ALL_MERGED_DATA = \"all_merged_data.csv\"\n",
    "\n",
    "MODEL_FOLDER = \"model\"\n",
    "MODEL_FILE_NAME = \"logistic_regression_model.pkl\"\n",
    "\n",
    "FEATURES_TO_INCLUDE = [\n",
    "    'city_resolvedAddress',\n",
    "    'day_temp',\n",
    "    'day_humidity',\n",
    "    'hour_windspeed',\n",
    "    'hour_conditions',\n",
    "    'city',\n",
    "    #'event_start_hour',\n",
    "    'num_regions',\n",
    "    'hours_last_day',\n",
    "   # 'vectors'\n",
    "]\n",
    "TARGET_FEATURE = 'is_alarm'\n",
    "\n",
    "# Load dataset from a CSV file\n",
    "df = pd.read_csv(f\"{INPUT_DATA_FOLDER}/{ALL_MERGED_DATA}\", sep=\";\")\n",
    "df.set_index('hour_datetimeEpoch', inplace=True)\n",
    "df.sort_index(inplace=True)\n",
    "# Separate the target variable from the input features\n",
    "X = df[FEATURES_TO_INCLUDE]\n",
    "y = df[TARGET_FEATURE]\n",
    "\n",
    "# Convert all columns to float\n",
    "X = X.apply(pd.to_numeric, errors='coerce')\n",
    "y = y.apply(pd.to_numeric, errors='coerce')\n",
    "\n",
    "# Replace NaN values with default\n",
    "X.fillna(0, inplace=True)\n",
    "y.fillna(0, inplace=True)\n",
    "\n",
    "# Split the dataset into training and testing sets\n",
    "tss = TimeSeriesSplit(2)\n",
    "train_index, test_index = list(tss.split(X))[-1]\n",
    "X_train, X_test = X.iloc[train_index, :], X.iloc[test_index,:]\n",
    "y_train, y_test = y.iloc[train_index], y.iloc[test_index]\n",
    "\n",
    "# X_train, X_test, y_train, y_test = train_test_split(X, y, test_size=0.2, random_state=42)\n",
    "# X_train[X_train['vectors'] > 0.0].head(3)\n",
    "X_train.head(3)\n"
   ]
  },
  {
   "attachments": {},
   "cell_type": "markdown",
   "metadata": {},
   "source": [
    "## Train model"
   ]
  },
  {
   "cell_type": "code",
   "execution_count": 6,
   "metadata": {},
   "outputs": [],
   "source": [
    "# Runs for quite a time\n",
    "# Results in best C = 0.00014563484775012445, best penalty l2 (which is default)\n",
    "# from sklearn.pipeline import Pipeline\n",
    "# from sklearn.model_selection import GridSearchCV\n",
    "# import numpy as np\n",
    "\n",
    "# logistic = LogisticRegression()\n",
    "\n",
    "# pipe = Pipeline(steps=[('logistic', logistic)])\n",
    "\n",
    "# C = np.logspace(-4, 4, 50)\n",
    "# penalty = ['l1', 'l2']\n",
    "# parameters = dict(logistic__C=C,\n",
    "#                     logistic__penalty=penalty)\n",
    "\n",
    "# clf = GridSearchCV(pipe, parameters, verbose=10)\n",
    "\n",
    "# clf.fit(X, y)\n",
    "# print('Best Penalty:', clf.best_estimator_.get_params()['logistic__penalty'])\n",
    "# print('Best C:', clf.best_estimator_.get_params()['logistic__C'])\n",
    "# print(); print(clf.best_estimator_.get_params()['logistic'])"
   ]
  },
  {
   "cell_type": "code",
   "execution_count": 7,
   "metadata": {},
   "outputs": [
    {
     "name": "stdout",
     "output_type": "stream",
     "text": [
      "Accuracy: 0.9176901352948903\n"
     ]
    }
   ],
   "source": [
    "# Initialize a logistic regression model\n",
    "model = LogisticRegression(C=0.00014563484775012445)\n",
    "\n",
    "# Train the model on the training set\n",
    "model.fit(X_train, y_train)\n",
    "\n",
    "# Evaluate the model on the testing set\n",
    "score = model.score(X_test, y_test)\n",
    "\n",
    "# Print the accuracy score of the model\n",
    "print(f\"Accuracy: {score}\")\n"
   ]
  },
  {
   "attachments": {},
   "cell_type": "markdown",
   "metadata": {},
   "source": [
    "## Save model"
   ]
  },
  {
   "cell_type": "code",
   "execution_count": 8,
   "metadata": {},
   "outputs": [],
   "source": [
    "with open(f\"{MODEL_FOLDER}/{MODEL_FILE_NAME}\", 'wb') as f:\n",
    "    pickle.dump(model, f)"
   ]
  },
  {
   "attachments": {},
   "cell_type": "markdown",
   "metadata": {},
   "source": [
    "## Calculate confusion matrix"
   ]
  },
  {
   "cell_type": "code",
   "execution_count": 9,
   "metadata": {},
   "outputs": [
    {
     "name": "stdout",
     "output_type": "stream",
     "text": [
      "Confusion Matrix:\n",
      "[[50033   686]\n",
      " [ 4327  5858]]\n"
     ]
    }
   ],
   "source": [
    "from sklearn.metrics import confusion_matrix\n",
    "\n",
    "y_pred = model.predict(X_test)\n",
    "cm = confusion_matrix(y_test, y_pred)\n",
    "print('Confusion Matrix:')\n",
    "print(cm)"
   ]
  }
 ],
 "metadata": {
  "kernelspec": {
   "display_name": "Python 3",
   "language": "python",
   "name": "python3"
  },
  "language_info": {
   "codemirror_mode": {
    "name": "ipython",
    "version": 3
   },
   "file_extension": ".py",
   "mimetype": "text/x-python",
   "name": "python",
   "nbconvert_exporter": "python",
   "pygments_lexer": "ipython3",
   "version": "3.7.2"
  },
  "orig_nbformat": 4,
  "vscode": {
   "interpreter": {
    "hash": "f4861b11d1e667279ae3d2e72b6459766b3db15384e4379b70e2ba2af9454d6c"
   }
  }
 },
 "nbformat": 4,
 "nbformat_minor": 2
}
